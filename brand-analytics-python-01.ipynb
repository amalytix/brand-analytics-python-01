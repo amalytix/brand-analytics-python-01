{
 "cells": [
  {
   "cell_type": "markdown",
   "id": "f8d0e2f9-4c07-48e8-9518-406a9bd7734f",
   "metadata": {},
   "source": [
    "# Setup"
   ]
  },
  {
   "cell_type": "code",
   "execution_count": null,
   "id": "ec58b3b0-8a45-408e-8320-dafdbe787efd",
   "metadata": {},
   "outputs": [],
   "source": [
    "# Setup\n",
    "\n",
    "import pandas as pd\n",
    "import numpy as np\n",
    "import time\n",
    "\n",
    "import matplotlib.pyplot as plt\n",
    "from matplotlib.pyplot import figure\n",
    "import seaborn as sns\n",
    "import datetime\n",
    "from datetime import timedelta\n",
    "import glob\n",
    "\n",
    "%config InlineBackend.figure_format='retina'\n",
    "plt.rcParams[\"figure.dpi\"] = 200"
   ]
  },
  {
   "cell_type": "markdown",
   "id": "a8f8770a-30a3-4938-9f2a-6d0d6d3d13eb",
   "metadata": {},
   "source": [
    "## Functions"
   ]
  },
  {
   "cell_type": "code",
   "execution_count": null,
   "id": "466fe59a-271b-4131-8a65-ee21ed29054f",
   "metadata": {},
   "outputs": [],
   "source": [
    "## Functions\n",
    "\n",
    "# Get link to an ASIN\n",
    "def get_ASIN_Link(ASIN, domain=\"US\"):\n",
    "    if domain == \"DE\":\n",
    "      domain = \"de\"\n",
    "    elif domain == \"US\":\n",
    "      domain = \"com\"\n",
    "    link = '<a href=\"https://www.amazon.' + domain + '/dp/' + ASIN + '\" target=\"_blank\">' + ASIN + '</a>'\n",
    "    return link\n",
    "\n",
    "# Define a function for colouring (red for negative, changes number format)\n",
    "def highlight_max(s):\n",
    "    if s.dtype == np.object:\n",
    "        is_neg = [False for _ in range(s.shape[0])]\n",
    "    else:\n",
    "        is_neg = s < 0\n",
    "    return ['color: red;' if cell else 'color:black' \n",
    "        for cell in is_neg]"
   ]
  },
  {
   "cell_type": "markdown",
   "id": "5306dde7-9fce-45c2-b901-ea75af733be5",
   "metadata": {},
   "source": [
    "# Set variables"
   ]
  },
  {
   "cell_type": "code",
   "execution_count": null,
   "id": "7403ac7d-a21b-41a4-ab8a-454107758604",
   "metadata": {},
   "outputs": [],
   "source": [
    "# Common\n",
    "currentWeek  = '33'\n",
    "previousWeek = '32'\n",
    "market       = 'US'\n",
    "yearString   = '2021'\n",
    "\n",
    "yearWeekCurrent = yearString + '-' + currentWeek\n",
    "yearWeekPrevious = yearString + '-' + previousWeek"
   ]
  },
  {
   "cell_type": "code",
   "execution_count": null,
   "id": "60fb5336-fc84-40ae-99ba-6cb700f03632",
   "metadata": {},
   "outputs": [],
   "source": [
    "# Variables\n",
    "pathToProducts = \"/Users/trutz/Dropbox/BrandAnalytics/product-from-api-data/productfromapis-US.csv\" # US\n",
    "columnsInProducts = ['ASIN', 'marketplaceTitle', 'category', 'brand', 'productImageUrl', 'productTitle'] # US \n",
    "pathToReports = \"/Users/trutz/Dropbox/BrandAnalytics/CSV/US/short/2021/\" # US short versions (max. 500.000 rows)\n",
    "columnsInReports = [\"Search Term\",\"Search Frequency Rank\",\"#1 Clicked ASIN\",\"#2 Clicked ASIN\",\"#3 Clicked ASIN\"]\n",
    "columnsInReportsSearchTerm = [\"Search Term\",\"Search Frequency Rank\"]\n",
    "currentWeekPath = pathToReports + \"Amazon-Suchbegriffe_US_2021_\" + currentWeek + \".csv\"\n",
    "previousWeekPath = pathToReports + \"Amazon-Suchbegriffe_US_2021_\" + previousWeek + \".csv\"\n",
    "thousandSeparator = \",\""
   ]
  },
  {
   "cell_type": "markdown",
   "id": "687ed520-55d3-403b-9570-7f00990db540",
   "metadata": {},
   "source": [
    "# Import data"
   ]
  },
  {
   "cell_type": "markdown",
   "id": "ff0a6d27-e02b-4a48-bbc3-7afb3dd66fec",
   "metadata": {},
   "source": [
    "## Import products data"
   ]
  },
  {
   "cell_type": "code",
   "execution_count": null,
   "id": "c0678ae1-a167-4c4d-9144-878cb32e3c33",
   "metadata": {},
   "outputs": [],
   "source": [
    "dfProducts = pd.DataFrame()\n",
    "dfProducts = pd.read_csv(pathToProducts, thousands=thousandSeparator, engine=\"python\", error_bad_lines=True, encoding='utf-8', sep=\",\")\n",
    "dfProducts.columns = columnsInProducts\n",
    "dfProducts['productTitle'] = dfProducts['productTitle'].astype(str).replace('|', '\\|') # For markdown outpout"
   ]
  },
  {
   "cell_type": "markdown",
   "id": "b449dc30-2101-4b72-9a7c-6e76af9ff261",
   "metadata": {},
   "source": [
    "## Import brand analytics data"
   ]
  },
  {
   "cell_type": "code",
   "execution_count": null,
   "id": "fd73832d-8f5c-4b48-a9f7-ce5ec9479919",
   "metadata": {},
   "outputs": [],
   "source": [
    "# Initialze empty dataframe we'll append data to\n",
    "dfFinal = pd.DataFrame()\n",
    "\n",
    "# Get all files\n",
    "all_files = sorted(glob.glob(pathToReports  + \"/*.csv\"))\n",
    "print ('\\n'.join(all_files))\n",
    "\n",
    "# Import files to df\n",
    "i = 0\n",
    "for file in all_files:\n",
    "  i = i + 1\n",
    "  print(str(i) + \". \" + file)\n",
    "\n",
    "  # Read to CSV\n",
    "  dfTemp = pd.read_csv(file, thousands=thousandSeparator, usecols=columnsInReports, engine=\"python\", error_bad_lines=True, encoding='utf-8', skiprows=1,  sep=\",\")\n",
    "\n",
    "  # Add week from filename to dataframe as new column\n",
    "  week = file[-6:][:2] # e.g. 06\n",
    "  year = file[-11:][:4] # e.g. 2020\n",
    "  yearWeek = year + '-' + week # e.g. 2020-06\n",
    "  marketplaceTitle = file[-14:][:2]\n",
    "  dfTemp['week'] = week\n",
    "  dfTemp['year'] = year\n",
    "  dfTemp['yearWeek'] = yearWeek\n",
    "  dfTemp['marketplaceTitle'] = marketplaceTitle\n",
    "\n",
    "  # Concat with previous results\n",
    "  dfFinal = pd.concat([dfTemp, dfFinal])\n",
    "\n",
    "# We rename ASIN1 into `1` as this becomes handy when we unmelt the report.\n",
    "dfFinal.columns = ['searchterm', 'rank', '1', '2', '3', 'week', 'year', 'yearWeek', 'marketplaceTitle']\n",
    "\n",
    "# Change data type to int\n",
    "dfFinal = dfFinal.astype({\"week\": int, \"year\": int, \"year\": int})"
   ]
  },
  {
   "cell_type": "code",
   "execution_count": null,
   "id": "dee7d377-b417-489a-b4f2-82f25cf13028",
   "metadata": {},
   "outputs": [],
   "source": [
    "# Only load 2 reports as an alternative\n",
    "dfCurrent = pd.read_csv(currentWeekPath, thousands=thousandSeparator, usecols=columnsInReportsSearchTerm, engine=\"python\", error_bad_lines=True, encoding='utf-8', skiprows=1,  sep=\",\")\n",
    "dfPrevious= pd.read_csv(previousWeekPath, thousands=thousandSeparator, usecols=columnsInReportsSearchTerm, engine=\"python\", error_bad_lines=True, encoding='utf-8', skiprows=1,  sep=\",\")"
   ]
  },
  {
   "cell_type": "markdown",
   "id": "3bbf9690-3f5e-4b4e-a818-a954ba732651",
   "metadata": {},
   "source": [
    "## Change data structure"
   ]
  },
  {
   "cell_type": "code",
   "execution_count": null,
   "id": "5384bf43-a3dc-4b2e-925a-99ad26359598",
   "metadata": {},
   "outputs": [],
   "source": [
    "# Unmelt dataframe\n",
    "\n",
    "# Create a copy\n",
    "dfWideMultiReports = dfFinal\n",
    "\n",
    "# Unmelt from wide to long\n",
    "dfWideMultiReportsLong = dfWideMultiReports.melt(id_vars=[\"searchterm\", \"rank\", \"week\", \"year\", \"yearWeek\", \"marketplaceTitle\"], var_name=\"position\", value_name=\"ASIN\")\n",
    "\n",
    "# Add column with a 1 so we can sum by this colum\n",
    "dfWideMultiReportsLong['count'] = 1\n",
    "\n",
    "# Make position an int\n",
    "dfWideMultiReportsLong = dfWideMultiReportsLong.astype({\"position\": int})"
   ]
  },
  {
   "cell_type": "markdown",
   "id": "e683905d-c6c6-4d64-9d2e-97e07d836592",
   "metadata": {},
   "source": [
    "## Add products data"
   ]
  },
  {
   "cell_type": "code",
   "execution_count": null,
   "id": "839820cb-f065-4ca1-9646-fa1fdabd6e09",
   "metadata": {},
   "outputs": [],
   "source": [
    "# Left join products data to searchterm data\n",
    "dfWideMultiReportsLongExtended = pd.merge(left=dfWideMultiReportsLong, right=dfProducts, how='left', left_on=['marketplaceTitle','ASIN'], right_on = ['marketplaceTitle','ASIN'])\n",
    "\n",
    "# Drop rows where searchterm or brand is NaN\n",
    "dfWideMultiReportsLongExtended = dfWideMultiReportsLongExtended.dropna(subset=['searchterm', 'ASIN', 'rank', 'week', 'year', 'yearWeek', 'marketplaceTitle', 'position', 'brand', 'productTitle']) # Only dop rows with N/A in specific columns"
   ]
  },
  {
   "cell_type": "markdown",
   "id": "ec67b278-14f0-46ae-93b4-b11d622c248a",
   "metadata": {},
   "source": [
    "# Anaylze the data"
   ]
  },
  {
   "cell_type": "markdown",
   "id": "8ac9e742-a901-46a9-a4b8-d094e3d1e5b8",
   "metadata": {
    "jp-MarkdownHeadingCollapsed": true,
    "tags": []
   },
   "source": [
    "## Searchterms"
   ]
  },
  {
   "cell_type": "code",
   "execution_count": null,
   "id": "1e308bea-1ddc-4e0d-9de5-bf1c47aed650",
   "metadata": {},
   "outputs": [],
   "source": [
    "# Change column names\n",
    "dfCurrent.columns = ['searchterm', 'currentRank']\n",
    "dfPrevious.columns = ['searchterm', 'previousRank']\n",
    "\n",
    "# Make currentRank and previousRank an integer\n",
    "dfCurrent = dfCurrent.astype({\"currentRank\": int})\n",
    "dfPrevious = dfPrevious.astype({\"previousRank\": int})\n",
    "\n",
    "# Merge current and previous dataframes\n",
    "dfMerged = pd.merge(left=dfCurrent, right=dfPrevious, how='left', left_on=['searchterm'], right_on = ['searchterm'])\n",
    "dfPrevious = dfPrevious.astype({\"previousRank\": int})\n",
    "\n",
    "# Calculate the changes between current and previous\n",
    "dfMerged['DeltaAbs']=dfMerged['currentRank']-dfMerged['previousRank']\n",
    "\n",
    "# Positive value of Change (to see biggest movers in absolute terms)\n",
    "dfMerged['DeltaAbsPos']=dfMerged['DeltaAbs'].abs()\n",
    "\n",
    "# Get current Top 10 with previous\n",
    "dfTop10Searchterms = dfMerged\n",
    "dfTop10Searchterms = dfTop10Searchterms.drop('DeltaAbsPos', 1)\n",
    "\n",
    "dfTop10Searchterms.columns = ['Searchterm', 'Rank cur.', 'Rank prev.', 'Change']\n",
    "dfTop10Searchterms['Change'] = dfTop10Searchterms.apply(lambda row: '<span class=\"text-green-600\">↑ ' + str(int(np.nan_to_num(row.Change))) + '</span>' if row.Change < 0 else '<span class=\"text-red-600\">↓ ' + str(int(np.nan_to_num(row.Change))) + '</span>', axis=1)\n",
    "searchTermsTop = dfTop10Searchterms.head(10).to_markdown(index=False)\n",
    "print('searchTermsTop')\n",
    "print(searchTermsTop + '\\n\\n')\n",
    "\n",
    "# Get new entries where there was no rank in previous week\n",
    "dfTopNewcomer = dfMerged[dfMerged['previousRank'].isnull()]\n",
    "dfTopNewcomer = dfTopNewcomer.drop(['previousRank','DeltaAbs', 'DeltaAbsPos'], 1)\n",
    "dfTopNewcomer = dfTopNewcomer.sort_values(by=['currentRank'], ascending=True).head(10)\n",
    "\n",
    "dfTopNewcomer.columns = ['New searchterms', 'Rank cur.']\n",
    "searchTermsNewcomer=dfTopNewcomer.head(10).to_markdown(index=False)\n",
    "print('searchTermsNewcomer')\n",
    "print(searchTermsNewcomer + '\\n\\n')\n",
    "\n",
    "# Leaver\n",
    "# Merge current and previous dataframes\n",
    "dfMergedRight = pd.merge(left=dfCurrent, right=dfPrevious, how='right', left_on=['searchterm'], right_on = ['searchterm'])\n",
    "\n",
    "dfTopLeaver = dfMergedRight[dfMergedRight['currentRank'].isnull()]\n",
    "dfTopLeaver = dfTopLeaver.drop(['currentRank'], 1)\n",
    "dfTopLeaver = dfTopLeaver.sort_values(by=['previousRank'], ascending=True).head(10)\n",
    "dfTopLeaver.columns = ['Lost searchterms', 'Rank prev. week']\n",
    "searchTermsGone=dfTopLeaver.head(10).to_markdown(index=False)\n",
    "print('searchTermsGone')\n",
    "print(searchTermsGone + '\\n\\n')\n",
    "\n",
    "# Only include searchterms which are now < 1000\n",
    "filterWinners = (dfMerged['currentRank'] < 1000)\n",
    "\n",
    "# Winners\n",
    "dfWinners = dfMerged[filterWinners].sort_values(by=['DeltaAbs'], ascending=True).head(10)\n",
    "\n",
    "# Drop DeltaAbsPos column\n",
    "dfWinners = dfWinners.drop('DeltaAbsPos', 1)\n",
    "\n",
    "# Rename for publishing\n",
    "dfWinners.columns = ['Searchterm', 'Rank CW ' + currentWeek, 'Rank CW ' + previousWeek, 'Delta']\n",
    "searchTermsWinner=dfWinners.to_markdown(index=False, floatfmt=\",.0f\")\n",
    "print('searchTermsWinner')\n",
    "print(searchTermsWinner + '\\n\\n')\n",
    "\n",
    "# Loosers\n",
    "filterLoosers = (dfMerged['previousRank'] < 1000)\n",
    "dfLoosers = dfMerged[filterLoosers].sort_values(by=['DeltaAbs'], ascending=False).head(10)\n",
    "\n",
    "# Drop DeltaAbsPos column\n",
    "dfLoosers = dfLoosers.drop('DeltaAbsPos', 1)\n",
    "\n",
    "# Rename for publishing\n",
    "dfLoosers.columns = ['Searchterm', 'Rank CW ' + currentWeek, 'Rank CW ' + previousWeek, 'Delta']\n",
    "searchTermsLoser=dfLoosers.to_markdown(index=False, floatfmt=\",.0f\")\n",
    "print('searchTermsLoser')\n",
    "print(searchTermsLoser + '\\n\\n')\n",
    "\n",
    "# Top Movers within a certain rank threshold\n",
    "filterMovers = (dfMerged['previousRank'] < 1000) & (dfMerged['currentRank'] < 1000)\n",
    "dfMerged = dfMerged.astype({\"currentRank\": float}) # Needs to be there otherwise currentRank column is string?!\n",
    "dfMovers = dfMerged[filterMovers].sort_values(by=['DeltaAbsPos'], ascending=False).head(10)\n",
    "dfMovers['DeltaAbs'] = dfMovers.apply(lambda row: '<span class=\"text-green-600\">↑ ' + str(int(np.nan_to_num(row.DeltaAbs))) + '</span>' if row.DeltaAbs < 0 else '<span class=\"text-red-600\">↓ ' + str(int(np.nan_to_num(row.DeltaAbs))) + '</span>', axis=1)\n",
    "\n",
    "# Drop DeltaAbs column\n",
    "dfMovers = dfMovers.drop('DeltaAbsPos', 1)\n",
    "\n",
    "# Rename for publishing\n",
    "dfMovers.columns = ['Searchterm', 'Rank CW ' + currentWeek, 'Rank CW ' + previousWeek, 'Delta']\n",
    "\n",
    "searchTermsMoverShaker=dfMovers.to_markdown(index=False, floatfmt=\",.0f\")\n",
    "print('searchTermsMoverShaker')\n",
    "print(searchTermsMoverShaker + '\\n\\n')"
   ]
  },
  {
   "cell_type": "markdown",
   "id": "319dff1d-c15e-44f0-b1d1-32b1e43488fe",
   "metadata": {},
   "source": [
    "## Brands"
   ]
  },
  {
   "cell_type": "code",
   "execution_count": null,
   "id": "1420e131-056a-45eb-bf52-840d5bc03a66",
   "metadata": {},
   "outputs": [],
   "source": [
    "filtCurrentWeek = (dfWideMultiReportsLongExtended['yearWeek'] == yearWeekCurrent)\n",
    "filtPreviousWeek = (dfWideMultiReportsLongExtended['yearWeek'] == yearWeekPrevious)\n",
    "\n",
    "dfBrandCurrentWeek = dfWideMultiReportsLongExtended[filtCurrentWeek]\n",
    "dfBrandPreviousWeek = dfWideMultiReportsLongExtended[filtPreviousWeek]\n",
    "\n",
    "dfTopBrandsCurrentWeek = dfBrandCurrentWeek['brand'].value_counts().sort_values(ascending=False).to_frame('countCurrent')\n",
    "dfTopBrandsPreviousWeek = dfBrandPreviousWeek['brand'].value_counts().sort_values(ascending=False).to_frame('countPrevious')\n",
    "\n",
    "brandsTop = dfTopBrandsCurrentWeek.head(10).to_markdown().replace('countCurrent', 'Count')\n",
    "\n",
    "print('brandsTop:\\n')\n",
    "print(brandsTop)\n",
    "print('\\n')\n",
    "\n",
    "dfTopBrandsMerged = dfTopBrandsCurrentWeek.merge(dfTopBrandsPreviousWeek, how='left', left_index=True, right_index=True)\n",
    "dfTopBrandsMerged['DeltaAbs'] = dfTopBrandsMerged['countCurrent'] - dfTopBrandsMerged['countPrevious']\n",
    "dfTopBrandsMerged['DeltaAbsPos'] = dfTopBrandsMerged['DeltaAbs'].abs()\n",
    "\n",
    "# Winners and Losers\n",
    "dfBrandLoosers = dfTopBrandsMerged.sort_values(by=['DeltaAbs'], ascending=True).head(10)\n",
    "\n",
    "dfBrandWinners = dfTopBrandsMerged.sort_values(by=['DeltaAbs'], ascending=False).head(10)\n",
    "dfBrandWinners.columns = ['# CW ' + currentWeek, '# CW ' + previousWeek, 'Delta', 'Delta Abs']\n",
    "dfBrandWinners = dfBrandWinners.drop('Delta Abs', 1)\n",
    "brandsWinner = dfBrandWinners.to_markdown()\n",
    "\n",
    "dfBrandLoosers.columns = ['# CW ' + currentWeek, '# CW ' + previousWeek, 'Delta', 'Delta Abs']\n",
    "dfBrandLoosers = dfBrandLoosers.drop('Delta Abs', 1)\n",
    "brandsLoser  = dfBrandLoosers.to_markdown()\n",
    "\n",
    "print('Winner:\\n')\n",
    "print(brandsWinner)\n",
    "print('\\n')\n",
    "\n",
    "print('Loser:\\n')\n",
    "print(brandsLoser)"
   ]
  },
  {
   "cell_type": "markdown",
   "id": "fa883213-7d91-4393-ac9e-9c6afc70b79f",
   "metadata": {},
   "source": [
    "## Products"
   ]
  },
  {
   "cell_type": "code",
   "execution_count": null,
   "id": "d5e4c76b-cce0-4d16-9a51-d35ebeba7846",
   "metadata": {},
   "outputs": [],
   "source": [
    "filtCurrentWeek = (dfWideMultiReportsLongExtended['yearWeek'] == yearWeekCurrent)\n",
    "filtPreviousWeek = (dfWideMultiReportsLongExtended['yearWeek'] == yearWeekPrevious)\n",
    "\n",
    "dfProductCurrentWeek = dfWideMultiReportsLongExtended[filtCurrentWeek]\n",
    "dfProductPreviousWeek = dfWideMultiReportsLongExtended[filtPreviousWeek]\n",
    "\n",
    "dfTopProductsCurrentWeek = dfProductCurrentWeek['ASIN'].value_counts().sort_values(ascending=False).to_frame('countCurrent')\n",
    "dfTopProductsPreviousWeek = dfProductPreviousWeek['ASIN'].value_counts().sort_values(ascending=False).to_frame('countPrevious')\n",
    "\n",
    "# ASIN is index, create column from it, add marketplaceTitle for making the merge possible\n",
    "dfTopProductsCurrentWeek['ASIN'] = dfTopProductsCurrentWeek.index\n",
    "dfTopProductsCurrentWeek['marketplaceTitle'] = market\n",
    "\n",
    "dfTopProductsPreviousWeek['ASIN'] = dfTopProductsPreviousWeek.index\n",
    "dfTopProductsPreviousWeek['marketplaceTitle'] = market\n",
    "\n",
    "# Add product data, e.g. product title\n",
    "dfTopProductsCurrentWeek = pd.merge(left=dfTopProductsCurrentWeek, right=dfProducts, how='left', left_on = ['marketplaceTitle', 'ASIN'], right_on = ['marketplaceTitle', 'ASIN'])\n",
    "\n",
    "# Merge current with previous df\n",
    "dfTopProductsMerged = dfTopProductsCurrentWeek.merge(dfTopProductsPreviousWeek, how='left', left_on = ['marketplaceTitle', 'ASIN'], right_on = ['marketplaceTitle', 'ASIN'])\n",
    "\n",
    "# Calculate the changes\n",
    "dfTopProductsMerged['DeltaAbs'] = dfTopProductsMerged['countCurrent'] - dfTopProductsMerged['countPrevious']\n",
    "dfTopProductsMerged['DeltaAbsPos'] = dfTopProductsMerged['DeltaAbs'].abs()\n",
    "\n",
    "# Shorten the product title and add ASIN\n",
    "dfTopProductsMerged['productTitleShort'] = dfTopProductsMerged['productTitle'].astype(str).replace('|', '-').str[0:30] + ' (' + get_ASIN_Link(dfTopProductsMerged['ASIN']) + ')'\n",
    "\n",
    "# Sort to find the products showing up most often\n",
    "# dfTopProductsMerged.sort_values(by=['countCurrent'], ascending = False).head(10)\n",
    "\n",
    "# Get rid of some columns and prepare output\n",
    "dfTopProductsForOutput = dfTopProductsMerged[['productTitleShort', 'countCurrent']]\n",
    "dfTopProductsForOutput.columns = ['Product title', 'Count']\n",
    "\n",
    "productsTop = dfTopProductsForOutput.head(10).to_markdown(index = False)\n",
    "print('productsTop' + '\\n')\n",
    "print(productsTop + '\\n')\n",
    "\n",
    "# Winners\n",
    "dfProductsWinners = dfTopProductsMerged.sort_values(by=['DeltaAbs'], ascending = False)\n",
    "dfProductsWinners = dfProductsWinners[['productTitleShort', 'DeltaAbs' ]]\n",
    "dfProductsWinners.columns = ['Product title', 'Delta']\n",
    "productsWinner = dfProductsWinners.head(10).to_markdown(index=False)\n",
    "\n",
    "print('productsWinner' + '\\n')\n",
    "print(productsWinner + '\\n')\n",
    "\n",
    "# Loosers\n",
    "dfProductsLoosers = dfTopProductsMerged.sort_values(by=['DeltaAbs'], ascending = True)\n",
    "dfProductsLoosers = dfProductsLoosers[['productTitleShort', 'DeltaAbs' ]]\n",
    "dfProductsLoosers.columns = ['Product title', 'Delta']\n",
    "productsLoser = dfProductsLoosers.head(10).to_markdown(index=False)\n",
    "\n",
    "print('productsLoser' + '\\n')\n",
    "print(productsLoser + '\\n')\n"
   ]
  },
  {
   "cell_type": "code",
   "execution_count": null,
   "id": "ca8746c3-cc50-4700-9c51-0d9deb62f081",
   "metadata": {},
   "outputs": [],
   "source": [
    "# Best newcoming products\n",
    "filtBothWeeks = (dfWideMultiReportsLongExtended['yearWeek'] == yearWeekCurrent) | (dfWideMultiReportsLongExtended['yearWeek'] == yearWeekPrevious)\n",
    "dfProductCurrentWeek = dfWideMultiReportsLongExtended[filtBothWeeks]\n",
    "\n",
    "df_pivot_current = pd.pivot_table(dfProductCurrentWeek,index=[\"ASIN\"], columns=[\"yearWeek\"], values=[\"searchterm\", \"rank\"],aggfunc={\"searchterm\":len,\"rank\":min})\n",
    "df_pivot_current['marketplaceTitle'] = market\n",
    "df_pivot_current.columns= ['minRankPrevious', 'minRankCurrent', 'countPrevious', 'countCurrent', 'marketplaceTitle']\n",
    "df_pivot_current.reset_index(inplace = True)\n",
    "\n",
    "df_pivot_current.sort_values(by=['countCurrent'], ascending = False)\n",
    "\n",
    "df_pivot_current['countDelta'] = df_pivot_current['countCurrent'] - df_pivot_current['countPrevious']\n",
    "df_pivot_current.sort_values(by=['countDelta'], ascending = False)\n",
    "\n",
    "# Add product data, e.g. product title\n",
    "df_pivot_current_ext = pd.merge(left=df_pivot_current, right=dfProducts, how='left', left_on = ['marketplaceTitle', 'ASIN'], right_on = ['marketplaceTitle', 'ASIN'])\n",
    "\n",
    "# Shorten the product title and add ASIN\n",
    "df_pivot_current_ext['productTitleShort'] = df_pivot_current_ext['productTitle'].astype(str).replace('|', '-').str[0:30] + ' (' + get_ASIN_Link(df_pivot_current_ext['ASIN'], market) + ')'\n",
    "\n",
    "# Products with most change between current an prev. week\n",
    "df_pivot_current_ext_short = df_pivot_current_ext[['productTitleShort', 'countCurrent', 'minRankCurrent', 'countDelta']]\n",
    "df_pivot_current_ext_short = df_pivot_current_ext_short.sort_values(by=['countDelta'], ascending = False)\n",
    "df_pivot_current_ext_short.columns = ['Product title', '# searchterms', 'Best rank', 'Delta']\n",
    "\n",
    "print('df_pivot_current_ext_short' + '\\n')\n",
    "print(df_pivot_current_ext_short.head(10).to_markdown(index=False))\n",
    "print('\\n')\n",
    "\n",
    "# Best Newcomer Products (without rankings in previous week)\n",
    "dfTopProductNewcomer = df_pivot_current_ext[df_pivot_current_ext['countPrevious'].isnull()]\n",
    "dfTopProductNewcomer = dfTopProductNewcomer.sort_values(by=['countCurrent'], ascending = False)\n",
    "dfTopProductNewcomer['productTitleShort'] = dfTopProductNewcomer['productTitle'].astype(str).replace('|', '-').str[0:30] + ' (' + get_ASIN_Link(dfTopProductNewcomer['ASIN'], market) + ')'\n",
    "\n",
    "dfTopProductNewcomer = dfTopProductNewcomer[['productTitleShort', 'countCurrent', 'minRankCurrent']]\n",
    "dfTopProductNewcomer = dfTopProductNewcomer.sort_values(by=['countCurrent'], ascending = False)\n",
    "dfTopProductNewcomer.columns = ['Product title', '# searchterms', 'Best rank']\n",
    "\n",
    "productsNewcomer = dfTopProductNewcomer.head(10).to_markdown(index=False)\n",
    "print('productsNewcomer' + '\\n')\n",
    "print(productsNewcomer)"
   ]
  },
  {
   "cell_type": "markdown",
   "id": "6a020675-80a6-49d4-8a66-05439a36e349",
   "metadata": {
    "id": "bM9CLSYja4QU"
   },
   "source": [
    "## Analysis of a single searchterm"
   ]
  },
  {
   "cell_type": "code",
   "execution_count": null,
   "id": "e916b4c4-9dc7-46e3-ba4b-d277b0da0970",
   "metadata": {
    "colab": {
     "base_uri": "https://localhost:8080/",
     "height": 421
    },
    "id": "USvPRhchQ9Ci",
    "outputId": "5a02d682-73a0-464c-a2fa-8134b610c354"
   },
   "outputs": [],
   "source": [
    "# Get data for a single keyword and sort by Week ASC\n",
    "searchTerm = \"pool\"\n",
    "\n",
    "# Set resolution\n",
    "plt.rcParams[\"figure.dpi\"] = 300\n",
    "\n",
    "# Filter dataframe\n",
    "dfSingleKeyword = dfFinal.loc[dfFinal['searchterm'] == searchTerm].sort_values('week')\n",
    "\n",
    "# Plot result\n",
    "kwPlot = dfSingleKeyword.plot(x ='week', y='rank', figsize=(10,6), title=\"Keyword: \" + searchTerm)\n",
    "kwPlot.set_xlabel(\"Weeks\")\n",
    "kwPlot.set_ylabel(\"Rank\")\n",
    "kwPlot"
   ]
  },
  {
   "cell_type": "code",
   "execution_count": null,
   "id": "5c2c6267-6512-4f4b-814e-5984fe792cd4",
   "metadata": {},
   "outputs": [],
   "source": []
  }
 ],
 "metadata": {
  "kernelspec": {
   "display_name": "Python 3 (ipykernel)",
   "language": "python",
   "name": "python3"
  },
  "language_info": {
   "codemirror_mode": {
    "name": "ipython",
    "version": 3
   },
   "file_extension": ".py",
   "mimetype": "text/x-python",
   "name": "python",
   "nbconvert_exporter": "python",
   "pygments_lexer": "ipython3",
   "version": "3.7.6"
  }
 },
 "nbformat": 4,
 "nbformat_minor": 5
}
